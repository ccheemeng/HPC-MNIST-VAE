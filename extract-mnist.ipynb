{
 "cells": [
  {
   "cell_type": "markdown",
   "metadata": {},
   "source": [
    "### MNIST to image and labels  \n",
    "Intended to simulate custom data"
   ]
  },
  {
   "cell_type": "code",
   "execution_count": 4,
   "metadata": {},
   "outputs": [],
   "source": [
    "import numpy as np\n",
    "from PIL import Image\n",
    "\n",
    "import csv\n",
    "import os\n",
    "from pathlib import Path"
   ]
  },
  {
   "cell_type": "code",
   "execution_count": 5,
   "metadata": {},
   "outputs": [],
   "source": [
    "paths = {\n",
    "    \"train\": {\n",
    "        \"images\": \"./data/train-images-idx3-ubyte\",\n",
    "        \"labels\": \"./data/train-labels-idx1-ubyte\"\n",
    "    },\n",
    "    \"test\": {\n",
    "        \"images\": \"./data/t10k-images-idx3-ubyte\",\n",
    "        \"labels\": \"./data/t10k-labels-idx1-ubyte\"\n",
    "    }\n",
    "}"
   ]
  },
  {
   "cell_type": "code",
   "execution_count": null,
   "metadata": {},
   "outputs": [],
   "source": [
    "for path in paths:\n",
    "    with open(paths[path][\"images\"], \"rb\") as fp_image:\n",
    "        with open(paths[path][\"labels\"], \"rb\") as fp_label:\n",
    "            fp_image.read(16) # first two bytes are always 0\n",
    "            fp_label.read(8) # first byte is 0\n",
    "            Path(os.path.join(path, \"images\")).mkdir(parents=True, exist_ok=True)\n",
    "            labels = []\n",
    "\n",
    "            i = 1\n",
    "            while True:\n",
    "                buffer_image = fp_image.read(784) # image size 28 * 28 = 784\n",
    "                buffer_label = fp_label.read(1) # label size is 1 bit\n",
    "                if not (buffer_image and buffer_label):\n",
    "                    break\n",
    "\n",
    "                array = np.reshape(np.frombuffer(buffer_image, dtype=np.uint8), newshape=(28, 28))\n",
    "                image = Image.fromarray(array)\n",
    "                image.save(os.path.join(path, \"images\", f\"{i}.png\"))\n",
    "\n",
    "                label = int(np.frombuffer(buffer_label, dtype=np.uint8)[0])\n",
    "                labels.append([f\"{i}.png\", label])\n",
    "\n",
    "                if i % 5000 == 0:\n",
    "                    print(i)\n",
    "                i += 1\n",
    "            \n",
    "            with open(os.path.join(path, \"labels.csv\"), 'w') as fp:\n",
    "                writer = csv.writer(fp)\n",
    "                writer.writerows(labels)"
   ]
  }
 ],
 "metadata": {
  "kernelspec": {
   "display_name": "vae-pytorch",
   "language": "python",
   "name": "python3"
  },
  "language_info": {
   "codemirror_mode": {
    "name": "ipython",
    "version": 3
   },
   "file_extension": ".py",
   "mimetype": "text/x-python",
   "name": "python",
   "nbconvert_exporter": "python",
   "pygments_lexer": "ipython3",
   "version": "3.8.20"
  }
 },
 "nbformat": 4,
 "nbformat_minor": 2
}
