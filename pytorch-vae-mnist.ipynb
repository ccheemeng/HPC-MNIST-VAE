{
 "cells": [
  {
   "cell_type": "markdown",
   "metadata": {},
   "source": [
    "### Imports"
   ]
  },
  {
   "cell_type": "code",
   "execution_count": 76,
   "metadata": {},
   "outputs": [],
   "source": [
    "import matplotlib.pyplot as plt\n",
    "import pandas as pd\n",
    "from tqdm import tqdm\n",
    "import torch\n",
    "import torch.nn as nn\n",
    "from torch.utils.data import DataLoader, Dataset, Subset\n",
    "from torchvision.io import read_image\n",
    "from torch.optim import Adam\n",
    "import torchvision.transforms as transforms\n",
    "\n",
    "from collections import OrderedDict\n",
    "import os\n",
    "import json"
   ]
  },
  {
   "cell_type": "markdown",
   "metadata": {},
   "source": [
    "### Hyperparameters  \n",
    "* $x$ is a observed variable in dataset $X=\\{x^{(i)}\\}^N_{i=1}$ consisting of $N$ i.i.d. samples, $x\\in\\mathbb{R^{\\text{x\\_dim}}}$  \n",
    "* $z$ is a latent variable, $z\\in\\mathbb{R^{\\text{z\\_dim}}}$ such that $z{\\sim}q_{\\phi}(z|x)$"
   ]
  },
  {
   "cell_type": "code",
   "execution_count": 77,
   "metadata": {},
   "outputs": [],
   "source": [
    "annotations_file_train = \"./data/train/labels.csv\"\n",
    "img_dir_train = \"./data/train/images/\"\n",
    "annotations_file_test = \"./data/test/labels.csv\"\n",
    "img_dir_test = \"./data/test/images/\"\n",
    "\n",
    "device = \"cuda\" if torch.cuda.is_available() else \"cpu\"\n",
    "workers = 1\n",
    "learning_rate = 1E-4\n",
    "batch_size = 50\n",
    "epochs = 30\n",
    "# x_dim = 784 is defined by dataset\n",
    "z_dim = 64\n",
    "hidden_dim = 256\n",
    "\n",
    "vae_state_dict = \"./runs/9734404/vae-state-dict.pt\""
   ]
  },
  {
   "cell_type": "markdown",
   "metadata": {},
   "source": [
    "### Class definitions"
   ]
  },
  {
   "cell_type": "code",
   "execution_count": 78,
   "metadata": {},
   "outputs": [],
   "source": [
    "class MNISTDataset(Dataset):\n",
    "    def __init__(self, annotations_file, img_dir, transform=None, target_transform=None):\n",
    "        self.img_labels = pd.read_csv(annotations_file) \n",
    "        self.img_dir = img_dir\n",
    "        self.transform = transform\n",
    "        self.target_transform = target_transform\n",
    "\n",
    "    def __len__(self):\n",
    "        return len(self.img_labels)\n",
    "    \n",
    "    def __getitem__(self, idx):\n",
    "        img_path = os.path.join(self.img_dir, self.img_labels.iloc[idx, 0])\n",
    "        image = torch.flatten(read_image(img_path)).float() / 255.0\n",
    "        label = self.img_labels.iloc[idx, 1]\n",
    "        if self.transform:\n",
    "            image = self.transform(image)\n",
    "        if self.target_transform:\n",
    "            label = self.target_transform(label)\n",
    "        return image, label\n",
    "    \n",
    "class Encoder(nn.Module):\n",
    "    def __init__(self, x_dim, hidden_dim, z_dim):\n",
    "        super(Encoder, self).__init__()\n",
    "        self.linear1 = nn.Linear(x_dim, hidden_dim)\n",
    "        self.mu = nn.Linear(hidden_dim, z_dim)\n",
    "        self.log_sigma = nn.Linear(hidden_dim, z_dim)\n",
    "        self.leaky_relu = nn.LeakyReLU()\n",
    "\n",
    "    def forward(self, x):\n",
    "        h = self.leaky_relu(self.linear1(x))\n",
    "        mean = self.mu(h)\n",
    "        log_var = self.log_sigma(h)\n",
    "        return mean, log_var\n",
    "    \n",
    "class Decoder(nn.Module):\n",
    "    def __init__(self, z_dim, hidden_dim, x_dim):\n",
    "        super(Decoder, self).__init__()\n",
    "        self.linear1 = nn.Linear(z_dim, hidden_dim)\n",
    "        self.output = nn.Linear(hidden_dim, x_dim)\n",
    "        self.leaky_relu = nn.LeakyReLU()\n",
    "\n",
    "    def forward(self, z):\n",
    "        h = self.leaky_relu(self.linear1(z))\n",
    "        x_hat = torch.sigmoid(self.output(h))\n",
    "        return x_hat\n",
    "    \n",
    "class VAE(nn.Module):\n",
    "    def __init__(self, encoder, decoder):\n",
    "        super(VAE, self).__init__()\n",
    "        self.encoder = encoder\n",
    "        self.decoder = decoder\n",
    "\n",
    "    def reparameterise(self, mean, var):\n",
    "        epsilon = torch.randn_like(var)\n",
    "        z = mean + var * epsilon\n",
    "        return z\n",
    "    \n",
    "    def forward(self, x):\n",
    "        mean, log_var = self.encoder(x)\n",
    "        z = self.reparameterise(mean, torch.exp(0.5 * log_var))\n",
    "        x_hat = self.decoder(z)\n",
    "        return x_hat, mean, log_var\n",
    "    \n",
    "def loss_function(x, x_hat, mean, log_var):\n",
    "    reconstruction_error = nn.functional.binary_cross_entropy(x_hat, x, reduction=\"sum\")\n",
    "    kl_divergence = -0.5 * torch.sum(1 + log_var - mean.pow(2) - log_var.exp())\n",
    "    return kl_divergence + reconstruction_error"
   ]
  },
  {
   "cell_type": "markdown",
   "metadata": {},
   "source": [
    "### Training"
   ]
  },
  {
   "cell_type": "code",
   "execution_count": 14,
   "metadata": {},
   "outputs": [],
   "source": [
    "dataset_train = MNISTDataset(annotations_file_train, img_dir_train)\n",
    "loader_train = DataLoader(Subset(dataset_train, range(10)), batch_size=batch_size, shuffle=True, num_workers=workers)\n",
    "\n",
    "x_dim = len(dataset_train[0][0])\n",
    "encoder = Encoder(x_dim, hidden_dim, z_dim)\n",
    "decoder = Decoder(z_dim, hidden_dim, x_dim)\n",
    "vae = VAE(encoder, decoder)\n",
    "vae.to(device)\n",
    "optimiser = Adam(vae.parameters(), lr=learning_rate)"
   ]
  },
  {
   "cell_type": "code",
   "execution_count": null,
   "metadata": {},
   "outputs": [],
   "source": [
    "print(\"Training VAE...\")\n",
    "vae.train()\n",
    "i = 1\n",
    "curr_loss = None\n",
    "for epoch in range(epochs):\n",
    "    total_loss = 0\n",
    "    print(f\"Epoch {i}:\")\n",
    "    for batch in tqdm(loader_train):\n",
    "        optimiser.zero_grad()\n",
    "        x = batch[0]\n",
    "        x.to(device)\n",
    "        x_hat, mean, log_var = vae(x)\n",
    "        loss = loss_function(x, x_hat, mean, log_var)\n",
    "        total_loss += loss.item()\n",
    "        loss.backward()\n",
    "        optimiser.step()\n",
    "    print(f\"Epoch {i} complete.\\tAverage loss: {total_loss / batch_size}\")\n",
    "    i += 1\n",
    "    curr_loss = total_loss\n",
    "print(\"Traning complete.\")"
   ]
  },
  {
   "cell_type": "code",
   "execution_count": 16,
   "metadata": {},
   "outputs": [],
   "source": [
    "hyperparameters = OrderedDict([\n",
    "    (\"annotations_file_train\", annotations_file_train),\n",
    "    (\"img_dir_train\", img_dir_train),\n",
    "    (\"annotations_file_test\", annotations_file_test),\n",
    "    (\"img_dir_test\", img_dir_test),\n",
    "    (\"device\", device),\n",
    "    (\"workers\", workers),\n",
    "    (\"learning_rate\", learning_rate),\n",
    "    (\"batch_size\", batch_size),\n",
    "    (\"epochs\", epochs),\n",
    "    (\"z_dim\", z_dim),\n",
    "    (\"hidden_dim\", hidden_dim)\n",
    "])\n",
    "log = {\n",
    "    \"hyperparameters\": hyperparameters,\n",
    "    \"loss\": curr_loss\n",
    "}\n",
    "torch.save(vae.state_dict(), \"vae-state-dict.pt\")\n",
    "torch.save(optimiser.state_dict(), \"optimiser-state-dict.pt\")\n",
    "with open(\"log.json\", 'w') as fp:\n",
    "    json.dump(log, fp)"
   ]
  },
  {
   "cell_type": "markdown",
   "metadata": {},
   "source": [
    "### Evaluation"
   ]
  },
  {
   "cell_type": "code",
   "execution_count": null,
   "metadata": {},
   "outputs": [],
   "source": [
    "dataset_test = MNISTDataset(annotations_file_test, img_dir_test)\n",
    "loader_test = DataLoader(dataset_test, batch_size=batch_size, shuffle=False, num_workers=workers)\n",
    "\n",
    "x_dim = len(dataset_test[0][0])\n",
    "\n",
    "encoder = Encoder(x_dim, hidden_dim, z_dim)\n",
    "decoder = Decoder(z_dim, hidden_dim, x_dim)\n",
    "vae = VAE(encoder, decoder)\n",
    "vae.load_state_dict(torch.load(vae_state_dict, weights_only=True, map_location=torch.device(device)))\n",
    "vae.to(device)\n",
    "vae.eval()\n",
    "\n",
    "def plot_x(x):\n",
    "    with torch.no_grad():\n",
    "        x_hat , _, _ = vae(x)\n",
    "        x_img = x.view(28, 28).numpy()\n",
    "        x_hat_img = x_hat.view(28, 28).numpy()\n",
    "        fig, ax = plt.subplots(1, 2)\n",
    "        ax[0].imshow(x_img)\n",
    "        ax[1].imshow(x_hat_img)\n",
    "        plt.show()"
   ]
  },
  {
   "cell_type": "code",
   "execution_count": 80,
   "metadata": {},
   "outputs": [
    {
     "name": "stdout",
     "output_type": "stream",
     "text": [
      "Label: 3\n"
     ]
    },
    {
     "data": {
      "image/png": "[encoded data removed]",
      "text/plain": [
       "<Figure size 640x480 with 2 Axes>"
      ]
     },
     "metadata": {},
     "output_type": "display_data"
    }
   ],
   "source": [
    "idx = 4269\n",
    "print(f\"Label: {dataset_test[idx][1]}\")\n",
    "plot_x(dataset_test[idx][0])"
   ]
  }
 ],
 "metadata": {
  "kernelspec": {
   "display_name": "hpc-mnist-vae",
   "language": "python",
   "name": "python3"
  },
  "language_info": {
   "codemirror_mode": {
    "name": "ipython",
    "version": 3
   },
   "file_extension": ".py",
   "mimetype": "text/x-python",
   "name": "python",
   "nbconvert_exporter": "python",
   "pygments_lexer": "ipython3",
   "version": "3.8.20"
  }
 },
 "nbformat": 4,
 "nbformat_minor": 2
}
